{
  "nbformat": 4,
  "nbformat_minor": 0,
  "metadata": {
    "accelerator": "TPU",
    "colab": {
      "name": "케라스_창시자에게_배우는_딥러닝.ipynb의 사본",
      "provenance": [],
      "collapsed_sections": [],
      "toc_visible": true,
      "authorship_tag": "ABX9TyPds5u49k4OpdAWQgEzGSi4",
      "include_colab_link": true
    },
    "kernelspec": {
      "display_name": "Python 3",
      "name": "python3"
    },
    "language_info": {
      "name": "python"
    }
  },
  "cells": [
    {
      "cell_type": "markdown",
      "metadata": {
        "id": "view-in-github",
        "colab_type": "text"
      },
      "source": [
        "<a href=\"https://colab.research.google.com/github/parkmina365/deep_learning_with_python/blob/main/CH2_%EC%8B%9C%EC%9E%91%ED%95%98%EA%B8%B0%EC%A0%84%EC%97%90%3A%EC%8B%A0%EA%B2%BD%EB%A7%9D%EC%9D%98%20%EC%88%98%ED%95%99%EC%A0%81%20%EA%B5%AC%EC%84%B1%EC%9A%94%EC%86%8C.ipynb\" target=\"_parent\"><img src=\"https://colab.research.google.com/assets/colab-badge.svg\" alt=\"Open In Colab\"/></a>"
      ]
    },
    {
      "cell_type": "markdown",
      "metadata": {
        "id": "wriB0KIYAxj7"
      },
      "source": [
        "# 1장. 딥러닝이란 무엇인가?\n",
        "\n",
        "## 1.1 인공 지능과 머신 러닝, 딥러닝\n",
        "1.1.1 인공 지능\n",
        "- Artificial Intelligence. 보통의 사람이 수행하는 지능적인 작업을 자동화 하기 위한 연구 활동(Ruled-based Programming) 심볼릭 AI는 체스 게임 등 논리적인 문제를 푸는데 적합하나 이미지 분류, 음성인식, 언어번역 등의 복잡한 문제를 해결하기는 부적합. 이를 해결하기 위해 머신 러닝의 개념이 등장\n",
        "\n",
        "1.1.2 머신 러닝\n",
        "- 규칙과 규칙에 따라 처리될데이터를 입력하면 해답이 출력되는 전통적 프로그래밍인 심볼릭 AI와는 달리, 머신러닝은 데이터와 데이터로부터 기대되는 해답을 입력하면 규칙이 출력됨. 이 규칙을 새로운 데이터에 적용하면 창의적인 답을 만들 수 있음. 머신러닝 시스템은 명시적으로 프로그램 되는것이 아니라 훈련(Training)됨. 작업과 관련있는 많은 샘픔을 제공하면 데이터에서 통계적 구조를 찾아 그 작업을 자동화하기 위한 규칙을 만들어냄. 정통적 통계와 머신러닝이 다른점은 대량의 복잡한 데이터셋을 다루기에 전통적인 통꼐분석 방법은 현실적으로 적용하기가 힘듦. 머신러닝, 딥러닝은 수학적 이론이 부족하며 엔지니어링 지향임. 이론보다는 경험을 바탕으로 아이디어가 증명되는 경향\n",
        "\n",
        "1.1.3 데이터에서 표현을 학습하기\\\n",
        "머신러닝은 샘플과 기댓값이 주어졌을때 데이터 처리 작업을 위한 실행규칙을 찾아내는 것. 머신러닝을 위해 필요한 세가지는 다음과 같음\n",
        "- 1.입력 데이터 포인트\n",
        "- 2.기대출력\n",
        "- 3.알고리즘의 성능을 측정하는 방법: 알고리즘의 현재 출력과 기대 출력간의 차이를 결정하기 위해 필요. 측정값은 알고리즘의 작동 방식을 교정하기 위한 신호로 다시 피드백 됨. 이런 수정단계를 학습(learning)이라고 함\n",
        "- 머신러닝은 가능성있는 공간을 사전에 정의하고 피드백 신호의 도움을 받아 입력 데이터에 대한 유용한 변환을 찾는 것. 공간의 변환을 찾기 위한 창의력은 없음. 가설 공간이라 불리는 미리 정의된 연산의 모음들을 자세히 조사하는 것 뿐\n",
        "\n",
        "1.1.4 딥러닝에서 ‘딥’이란 무엇일까?\n",
        "- 머신 러닝의 한 분야. 연속된 층에서 점진적으로 의미 있는 표현을 배우는 데 강점이 있으며 데이터로부터 표현을 학습하는 새로운 방식.\n",
        "- deep이란 깊다는 의미는 아니며 연속된 층으로 표현을 학습한다는 개념임. 데이터로부터 얼마나 많은 층을 사용했는지가 그 모델의 깊이가 됨. 층 기반 표현 학습, 계층적 표현 학습. 머신러닝은 1~2개 데이터 표현층을 학습하는 경향이 있음\n",
        "\n",
        "1.1.5 그림 3개로 딥러닝의 작동 원리 이해하기\n",
        "- 학습은 주어진 입력을 정확한 타겟에 매핑하기 위해 신경망의 모든 층에 있는 가중치 값을 찾는 것을 의미함(신경망은 가중치를 파라미터로 가짐)\n",
        "- 손실함수(= 목적함수, 비용함수): 신경망의 출력을 제어하기 위해 출력이 기대하는 것보다 얼마나 벗어났는지를 측정. 신경망이 한 샘플에 대해 얼마나 잘 예측했는지 측정하기 위해 손실 함수가 신경망의 예측과 진짜 타깃(신경망의 출력으로 기대하는 값)의 차이를 점수로 계산\n",
        "- 손실함수로 계산한 손실점수를 피드백 신호로 사용하여 현재 샘플의 손실 점수가 감소되는 방향으로 가중치 값을 조금씩 수정하는 것. 딥러닝의 핵심 알고리즘인 역전파(Backpropagation) 알고리즘을 구현한 옵티마이저가 이를 담당함\n",
        "- 훈련 반복(Training loop): 네트워크가 모든 샘플을 처리하면서 가중치가 역전파 알고리즘에 의해 올바른 방향으로 조정되며 손실 점수가 감소되는 것. 충분한 횟수만큼 만복하면 손실 함수를 최소화 하는 가중치 값이 산출 됨\n",
        "\n",
        "1.1.6 지금까지 딥러닝의 성과\n",
        "- 기계에서 해결이 어려웠던 시청각 지각에서의 성과를 보이고 있음\n",
        "\n",
        "1.1.7 단기간의 과대 선전을 믿지 말자\\\n",
        "1.1.8 AI에 대한 전망\n",
        "\n",
        "##1.2 딥러닝 이전: 머신 러닝의 간략한 역사\n",
        "1.2.1 확률적 모델링\\\n",
        "1.2.2 초창기 신경망\\\n",
        "1.2.3 커널 방법\\\n",
        "1.2.4 결정 트리, 랜덤 포레스트, 그래디언트 부스팅 머신\\\n",
        "1.2.5 다시 신경망으로\n",
        "- 심층 합성공 신경망(Deep Convolutional neural network, ConvNet)의 등장\n",
        "1.2.6 딥러닝의 특징\n",
        "- 딥러닝은 머신러닝의 특성공학을 완전 자동화 함\n",
        "1.2.7 머신 러닝의 최근 동향\n",
        "\n",
        "## 1.3 왜 딥러닝일까? 왜 지금일까?\n",
        "1.3.1 하드웨어\\\n",
        "1.3.2 데이터\\\n",
        "1.3.3 알고리즘\\\n",
        "1.3.4 새로운 투자의 바람\\\n",
        "1.3.5 딥러닝의 대중화\\\n",
        "1.3.6 지속될까?"
      ]
    },
    {
      "cell_type": "markdown",
      "metadata": {
        "id": "ZIsc89PEBSjv"
      },
      "source": [
        "# 2장. 시작하기 전에: 신경망의 수학적 구성 요소"
      ]
    },
    {
      "cell_type": "markdown",
      "metadata": {
        "id": "_NbADtaCSMrF"
      },
      "source": [
        "## 2.1 신경망과의 첫 만남"
      ]
    },
    {
      "cell_type": "code",
      "metadata": {
        "colab": {
          "base_uri": "https://localhost:8080/"
        },
        "id": "2XLauwJGNp3m",
        "outputId": "1f3873b6-d977-477a-e587-24a4baed1940"
      },
      "source": [
        "import os, sys\n",
        "from google.colab import drive\n",
        "drive.mount('/content/drive')\n",
        "my_path = '/content/notebooks'\n",
        "# os.symlink('/content/drive/My Drive/Colab Notebooks', my_path)\n",
        "# sys.path.insert(0,my_path)"
      ],
      "execution_count": null,
      "outputs": [
        {
          "output_type": "stream",
          "name": "stdout",
          "text": [
            "Drive already mounted at /content/drive; to attempt to forcibly remount, call drive.mount(\"/content/drive\", force_remount=True).\n"
          ]
        }
      ]
    },
    {
      "cell_type": "code",
      "metadata": {
        "id": "1gCiokfGN8EO"
      },
      "source": [
        "import tensorflow as tf\n",
        "from tensorflow import keras\n",
        "keras.__version__"
      ],
      "execution_count": null,
      "outputs": []
    },
    {
      "cell_type": "code",
      "metadata": {
        "id": "cc0qJ8YeEfOI"
      },
      "source": [
        "from keras.datasets import mnist\n",
        "(train_images, train_labels), (test_images, test_labels) =  mnist.load_data()\n",
        "print(train_images.shape, len(train_labels))\n",
        "print(test_images.shape, len(test_images))"
      ],
      "execution_count": null,
      "outputs": []
    },
    {
      "cell_type": "code",
      "metadata": {
        "id": "xi1uA-EbPXpU"
      },
      "source": [
        "# 이미지 예시 확인\n",
        "import matplotlib.pyplot as plt\n",
        "digit = train_images[4]\n",
        "plt.imshow(digit, cmap=plt.cm.binary)\n",
        "plt.show()"
      ],
      "execution_count": null,
      "outputs": []
    },
    {
      "cell_type": "code",
      "metadata": {
        "id": "HSEZRgdyGA5_"
      },
      "source": [
        "# 신경망 구조\n",
        "from keras import models\n",
        "from keras import layers\n",
        "\n",
        "network = models.Sequential()\n",
        "network.add(layers.Dense(512, activation='relu', input_shape=(28*28,)))\n",
        "network.add(layers.Dense(10, activation='softmax'))\n",
        "# 10개의 확률점수가 들어있는 배열. 현재 숫자 이미지가 10개의 숫자 클래스 중 하나에 속할 확률"
      ],
      "execution_count": null,
      "outputs": []
    },
    {
      "cell_type": "code",
      "metadata": {
        "id": "8o3JyaMpIMOg"
      },
      "source": [
        "# 컴파일 단계\n",
        "network.compile(optimizer='rmsprop', loss='categorical_crossentropy', metrics=['accuracy'])\n",
        "# 손실함수(loss fuction): 훈련 데이터에서 신경망의 성능을 측정하는 방법. 네트워크가 옳은 방향으로 학습하게 도와줌\n",
        "# optimizer: 입력된 데이터와 손실 함수를 기반으로 네트워크를 업데이트하는 메커니즘\n",
        "# metrics: acuuracy"
      ],
      "execution_count": null,
      "outputs": []
    },
    {
      "cell_type": "code",
      "metadata": {
        "id": "aqyCOV_SPHbQ"
      },
      "source": [
        "print(train_images[0].dtype)\n",
        "### float로 변경해야"
      ],
      "execution_count": null,
      "outputs": []
    },
    {
      "cell_type": "code",
      "metadata": {
        "id": "9aWoL5bAJG7g"
      },
      "source": [
        "# 이미지 데이터 준비하기\n",
        "train_images = train_images.reshape((60000, 28*28))\n",
        "train_images = train_images.astype('float32')/255\n",
        "\n",
        "test_images = test_images.reshape((10000, 28*28))\n",
        "test_images = test_images.astype('float32')/255"
      ],
      "execution_count": null,
      "outputs": []
    },
    {
      "cell_type": "code",
      "metadata": {
        "id": "C-FyJsgKP_xz"
      },
      "source": [
        "test_images[0,:]"
      ],
      "execution_count": null,
      "outputs": []
    },
    {
      "cell_type": "code",
      "metadata": {
        "id": "jukywjLpJoJF"
      },
      "source": [
        "# 레이블 준비하기\n",
        "from tensorflow.keras.utils import to_categorical\n",
        "\n",
        "train_labels = to_categorical(train_labels)\n",
        "test_labels = to_categorical(test_labels)"
      ],
      "execution_count": null,
      "outputs": []
    },
    {
      "cell_type": "code",
      "metadata": {
        "colab": {
          "base_uri": "https://localhost:8080/"
        },
        "id": "s3rx__sHQeBX",
        "outputId": "f3762b6c-44db-4efe-cec7-bf8c478b50d4"
      },
      "source": [
        "# 신경망 훈련\n",
        "network.fit(train_images, train_labels, epochs=5, batch_size=128)\n",
        "# 네트워크의 손실, 정확도 출력"
      ],
      "execution_count": null,
      "outputs": [
        {
          "output_type": "stream",
          "name": "stdout",
          "text": [
            "Epoch 1/5\n",
            "469/469 [==============================] - 5s 10ms/step - loss: 0.2559 - accuracy: 0.9268\n",
            "Epoch 2/5\n",
            "469/469 [==============================] - 5s 10ms/step - loss: 0.1043 - accuracy: 0.9689\n",
            "Epoch 3/5\n",
            "469/469 [==============================] - 4s 10ms/step - loss: 0.0685 - accuracy: 0.9795\n",
            "Epoch 4/5\n",
            "469/469 [==============================] - 4s 9ms/step - loss: 0.0498 - accuracy: 0.9847\n",
            "Epoch 5/5\n",
            "469/469 [==============================] - 4s 9ms/step - loss: 0.0370 - accuracy: 0.9888\n"
          ]
        },
        {
          "output_type": "execute_result",
          "data": {
            "text/plain": [
              "<keras.callbacks.History at 0x7faf95a7b690>"
            ]
          },
          "metadata": {},
          "execution_count": 36
        }
      ]
    },
    {
      "cell_type": "code",
      "metadata": {
        "colab": {
          "base_uri": "https://localhost:8080/"
        },
        "id": "EBF2yk5YQ7Ot",
        "outputId": "2d187394-3c30-4991-83d5-ebee4ead7297"
      },
      "source": [
        "# 신경망 테스트\n",
        "test_loss, test_acc = network.evaluate(test_images, test_labels)\n",
        "### train의 accuracy보다는 낮은 결과(0.9788 < 0.9886). 과대적합 가능성!"
      ],
      "execution_count": null,
      "outputs": [
        {
          "output_type": "stream",
          "name": "stdout",
          "text": [
            "313/313 [==============================] - 1s 2ms/step - loss: 0.0634 - accuracy: 0.9805\n"
          ]
        }
      ]
    },
    {
      "cell_type": "markdown",
      "metadata": {
        "id": "4mUiVElrEbER"
      },
      "source": [
        "\n",
        "## 2.2 신경망을 위한 데이터 표현\n",
        "\n",
        "- tensor: 데이터를 담는 컨테이너. 2D텐서의 예시는 행렬. 텐서는 임의의 차원 개수를 가지는 행렬의 일반화된 모습. 텐서에서는 차원(dimension)을 축(axis)이라고 부름\n",
        "\n",
        "2.2.1 스칼라(0D 텐서)\\\n",
        "스칼라 텐서의 축 개수는 0(ndim==0). 텐서의 축 갯수를 랭크(rank)라고도 부름\n",
        "\n",
        "\n",
        "2.2.2 벡터(1D 텐서)\\\n",
        "벡터의 원소가 5개인 경우 5차원 벡터라고도 부름. 5D벡터(=1D텐서) != 5D텐서\n",
        "\n",
        "2.2.3 행렬(2D 텐서)\\\n",
        "2.2.4 3D 텐서와 고차원 텐서\\\n",
        "2.2.5 핵심 속성\n",
        "- 축의 개수(rank): numpy의 ndim으로 확인 가능\n",
        "- 크기(shape): 텐서의 각 축을 따라 얼마나 많은 차원이 있는지 나타낸 파이썬의 튜플임\n",
        "- 데이터 타입: numpy의 dtype으로 확인가능. float32, unit8 등. 텐서는 사전에 할당되어 연속된 메모리에 저장되어야 하므로 넘파이 배열은 가변 길이의 문자열을 지원하지 않음\n",
        "\n",
        "2.2.6 넘파이로 텐서 조작하기\\\n",
        "2.2.7 배치 데이터\\\n",
        "딥러닝에서 사용하는 모든 데이터 텐서의 첫번째 축은 샘플축(sample axis, sample dimension)임. 딥러닝 모델은 한번에 전체 데이터셋을 처리하지 않으며 데이터 샘플들로 분할하여 작은 배치(batch)로 나눔. 이런 배치 데이터를 다룰때 첫번째 축을 배치축(batch axis, batch dimension)이라고 부름\\\n",
        "2.2.8 텐서의 실제 사례\n",
        "- 2D 텐서: 벡터 데이터. (samples, features) 형태\n",
        "- 3D 텐서: 시계열 혹은 시퀀스 데이터. (samples, timesteps, features) 형태\n",
        "- 4D 텐서: 이미지. (samples, heights, width, channels) 또는 (samples, frames, heights, width)\n",
        "- 5D 텐서: 동영상. (samples, frames, heights, width, channels) 또는 (samples, frames, channels, heights, width) \n",
        "2.2.9 벡터 데이터\n",
        "- 예) 사람의 나이, 우편번호, 소득으로 구성된 데이터. feature는 3개인 벡터로 구성되며 샘플수는 10만개. (100000, 3)\n",
        "2.2.10 시계열 데이터 또는 시퀀스 데이터\n",
        "- 시간 혹은 연속된 순서가 중요한때는 시간축을 포함하여 3D 텐서로 저장. 각 샘플은 2D 텐서의 시퀀스로 인코딩되므로, 배치 데이터는 3D 텐서로 인코딩됨. 관례적으로 시간축은 두번째 축에 할당\n",
        "- 예) 시계열 - 주식 가격 데이터: 1분마다 현재 주식가격, 최고가격, 최소가격을 기록. 1분마다 데이터는 3D 벡터로 인코딩되며 하루동안의 거래는 (390분, 3)의 2D 텐서로 인코딩 됨. 250일치의 데이터는 (250, 390, 3)의 3D 텐서로 저장\n",
        "- 예) 시퀀스 - 트윗: 트윗은 128개의 알파벳으로 구성된 280개의 문자 시퀀스. 각 트윗은 (280, 128)의 2D 텐서로 인코딩 됨. 100만개의 트윗 데이터셋은 (100만, 280, 128)\n",
        "2.2.11 이미지 데이터\n",
        "- 이미지는 높이, 너비, 컬러채널(R,G,B)의 3차원으로 구성됨(흑백의 경우는 컬러채널이 없으므로 2차원). 256*256 크기의 컬러 이미지에 대한 128개의 배치는 (128, 256, 256, 3). 컬러 채널을 앞에 두는 방식(channel-first), 컬러 채널을 마지막에 두는 방식(channel-last)의 두 가지 방식이 있음\n",
        "2.2.12 비디오 데이터\n",
        "- 비디오는 프레임의 연속이며, 각 프레임은 하나의 컬러 이미지임. 여러 비디오의 배치는 (samples, frames, heights, width, channels)의 5D 텐서로 저장 가능\n"
      ]
    },
    {
      "cell_type": "code",
      "metadata": {
        "colab": {
          "base_uri": "https://localhost:8080/",
          "height": 269
        },
        "id": "hqVApPggTXxB",
        "outputId": "6fc55883-9ead-45bb-9e48-06aafb24ebe1"
      },
      "source": [
        "# 스칼라(0D텐서)\n",
        "import numpy as np\n",
        "x= np.array(12)\n",
        "display(x, x.ndim)\n",
        "\n",
        "# 벡터(1D텐서)\n",
        "x = np.array([12,3,6,14,7])\n",
        "display(x, x.ndim)\n",
        "\n",
        "# 행렬(2D텐서)\n",
        "x = np.array([[5,1,2,3,4],[1,2,3,4,5],[6,7,8,9,0]])\n",
        "display(x, x.ndim)\n",
        "\n",
        "# 3D, 고차원 텐서\n",
        "x = np.array([[[5,1,2,3,4]],[[1,2,3,4,5]],[[6,7,8,9,0]]])\n",
        "display(x, x.ndim)"
      ],
      "execution_count": null,
      "outputs": [
        {
          "output_type": "display_data",
          "data": {
            "text/plain": [
              "array(12)"
            ]
          },
          "metadata": {}
        },
        {
          "output_type": "display_data",
          "data": {
            "text/plain": [
              "0"
            ]
          },
          "metadata": {}
        },
        {
          "output_type": "display_data",
          "data": {
            "text/plain": [
              "array([12,  3,  6, 14,  7])"
            ]
          },
          "metadata": {}
        },
        {
          "output_type": "display_data",
          "data": {
            "text/plain": [
              "1"
            ]
          },
          "metadata": {}
        },
        {
          "output_type": "display_data",
          "data": {
            "text/plain": [
              "array([[5, 1, 2, 3, 4],\n",
              "       [1, 2, 3, 4, 5],\n",
              "       [6, 7, 8, 9, 0]])"
            ]
          },
          "metadata": {}
        },
        {
          "output_type": "display_data",
          "data": {
            "text/plain": [
              "2"
            ]
          },
          "metadata": {}
        },
        {
          "output_type": "display_data",
          "data": {
            "text/plain": [
              "array([[[5, 1, 2, 3, 4]],\n",
              "\n",
              "       [[1, 2, 3, 4, 5]],\n",
              "\n",
              "       [[6, 7, 8, 9, 0]]])"
            ]
          },
          "metadata": {}
        },
        {
          "output_type": "display_data",
          "data": {
            "text/plain": [
              "3"
            ]
          },
          "metadata": {}
        }
      ]
    },
    {
      "cell_type": "code",
      "metadata": {
        "colab": {
          "base_uri": "https://localhost:8080/"
        },
        "id": "Hq2NMeYJZaUo",
        "outputId": "2018c6bb-4d81-4c7d-9816-6914d3933d4d"
      },
      "source": [
        "# 텐서의 핵심속성\n",
        "from keras.datasets import mnist\n",
        "(train_images, train_labels), (test_images, test_labels) =  mnist.load_data()\n",
        "print(f'ranks : {train_images.ndim}')\n",
        "print(f'shape : {train_images.shape}')\n",
        "print(f'dtype : {train_images.dtype}')\n",
        "\n",
        "### 28X28의 정수 행렬(uint8)이 60000개 있는 배열\n",
        "### 각 행렬은 하나의 흑백 이미지이고, 행렬의 원소는 0~255 사이의 값을 가짐(흑백의 정도에 따른 값)"
      ],
      "execution_count": null,
      "outputs": [
        {
          "output_type": "stream",
          "name": "stdout",
          "text": [
            "ranks : 3\n",
            "shape : (60000, 28, 28)\n",
            "dtype : uint8\n"
          ]
        }
      ]
    },
    {
      "cell_type": "code",
      "metadata": {
        "colab": {
          "base_uri": "https://localhost:8080/",
          "height": 1000
        },
        "id": "aizcKRp_anNi",
        "outputId": "b95b4477-f461-41b1-d7c7-032aecfcd6c5"
      },
      "source": [
        "# train_image의 배열 및 이미지 출력하기\n",
        "import matplotlib.pyplot as plt\n",
        "display(train_images[4])\n",
        "plt.imshow(train_images[4], cmap=plt.cm.binary)\n",
        "plt.show()"
      ],
      "execution_count": null,
      "outputs": [
        {
          "output_type": "display_data",
          "data": {
            "text/plain": [
              "array([[  0,   0,   0,   0,   0,   0,   0,   0,   0,   0,   0,   0,   0,\n",
              "          0,   0,   0,   0,   0,   0,   0,   0,   0,   0,   0,   0,   0,\n",
              "          0,   0],\n",
              "       [  0,   0,   0,   0,   0,   0,   0,   0,   0,   0,   0,   0,   0,\n",
              "          0,   0,   0,   0,   0,   0,   0,   0,   0,   0,   0,   0,   0,\n",
              "          0,   0],\n",
              "       [  0,   0,   0,   0,   0,   0,   0,   0,   0,   0,   0,   0,   0,\n",
              "          0,   0,   0,   0,   0,   0,   0,   0,   0,   0,   0,   0,   0,\n",
              "          0,   0],\n",
              "       [  0,   0,   0,   0,   0,   0,   0,   0,   0,   0,   0,   0,   0,\n",
              "          0,   0,   0,   0,   0,   0,   0,   0,   0,   0,   0,   0,   0,\n",
              "          0,   0],\n",
              "       [  0,   0,   0,   0,   0,   0,   0,   0,   0,   0,   0,   0,   0,\n",
              "          0,   0,   0,   0,   0,   0,   0,   0,   0,   0,   0,   0,   0,\n",
              "          0,   0],\n",
              "       [  0,   0,   0,   0,   0,   0,   0,   0,   0,   0,   0,   0,   0,\n",
              "          0,   0,   0,   0,   0,   0,   0,   0,   0,   0,   0,   0,   0,\n",
              "          0,   0],\n",
              "       [  0,   0,   0,   0,   0,   0,   0,   0,   0,   0,   0,   0,   0,\n",
              "          0,   0,   0,   0,   0,   0,   0,   0,   0,   0,   0,   0,   0,\n",
              "          0,   0],\n",
              "       [  0,   0,   0,   0,   0,   0,   0,   0,   0,   0,   0,   0,  55,\n",
              "        148, 210, 253, 253, 113,  87, 148,  55,   0,   0,   0,   0,   0,\n",
              "          0,   0],\n",
              "       [  0,   0,   0,   0,   0,   0,   0,   0,   0,   0,   0,  87, 232,\n",
              "        252, 253, 189, 210, 252, 252, 253, 168,   0,   0,   0,   0,   0,\n",
              "          0,   0],\n",
              "       [  0,   0,   0,   0,   0,   0,   0,   0,   0,   4,  57, 242, 252,\n",
              "        190,  65,   5,  12, 182, 252, 253, 116,   0,   0,   0,   0,   0,\n",
              "          0,   0],\n",
              "       [  0,   0,   0,   0,   0,   0,   0,   0,   0,  96, 252, 252, 183,\n",
              "         14,   0,   0,  92, 252, 252, 225,  21,   0,   0,   0,   0,   0,\n",
              "          0,   0],\n",
              "       [  0,   0,   0,   0,   0,   0,   0,   0, 132, 253, 252, 146,  14,\n",
              "          0,   0,   0, 215, 252, 252,  79,   0,   0,   0,   0,   0,   0,\n",
              "          0,   0],\n",
              "       [  0,   0,   0,   0,   0,   0,   0, 126, 253, 247, 176,   9,   0,\n",
              "          0,   8,  78, 245, 253, 129,   0,   0,   0,   0,   0,   0,   0,\n",
              "          0,   0],\n",
              "       [  0,   0,   0,   0,   0,   0,  16, 232, 252, 176,   0,   0,   0,\n",
              "         36, 201, 252, 252, 169,  11,   0,   0,   0,   0,   0,   0,   0,\n",
              "          0,   0],\n",
              "       [  0,   0,   0,   0,   0,   0,  22, 252, 252,  30,  22, 119, 197,\n",
              "        241, 253, 252, 251,  77,   0,   0,   0,   0,   0,   0,   0,   0,\n",
              "          0,   0],\n",
              "       [  0,   0,   0,   0,   0,   0,  16, 231, 252, 253, 252, 252, 252,\n",
              "        226, 227, 252, 231,   0,   0,   0,   0,   0,   0,   0,   0,   0,\n",
              "          0,   0],\n",
              "       [  0,   0,   0,   0,   0,   0,   0,  55, 235, 253, 217, 138,  42,\n",
              "         24, 192, 252, 143,   0,   0,   0,   0,   0,   0,   0,   0,   0,\n",
              "          0,   0],\n",
              "       [  0,   0,   0,   0,   0,   0,   0,   0,   0,   0,   0,   0,   0,\n",
              "         62, 255, 253, 109,   0,   0,   0,   0,   0,   0,   0,   0,   0,\n",
              "          0,   0],\n",
              "       [  0,   0,   0,   0,   0,   0,   0,   0,   0,   0,   0,   0,   0,\n",
              "         71, 253, 252,  21,   0,   0,   0,   0,   0,   0,   0,   0,   0,\n",
              "          0,   0],\n",
              "       [  0,   0,   0,   0,   0,   0,   0,   0,   0,   0,   0,   0,   0,\n",
              "          0, 253, 252,  21,   0,   0,   0,   0,   0,   0,   0,   0,   0,\n",
              "          0,   0],\n",
              "       [  0,   0,   0,   0,   0,   0,   0,   0,   0,   0,   0,   0,   0,\n",
              "         71, 253, 252,  21,   0,   0,   0,   0,   0,   0,   0,   0,   0,\n",
              "          0,   0],\n",
              "       [  0,   0,   0,   0,   0,   0,   0,   0,   0,   0,   0,   0,   0,\n",
              "        106, 253, 252,  21,   0,   0,   0,   0,   0,   0,   0,   0,   0,\n",
              "          0,   0],\n",
              "       [  0,   0,   0,   0,   0,   0,   0,   0,   0,   0,   0,   0,   0,\n",
              "         45, 255, 253,  21,   0,   0,   0,   0,   0,   0,   0,   0,   0,\n",
              "          0,   0],\n",
              "       [  0,   0,   0,   0,   0,   0,   0,   0,   0,   0,   0,   0,   0,\n",
              "          0, 218, 252,  56,   0,   0,   0,   0,   0,   0,   0,   0,   0,\n",
              "          0,   0],\n",
              "       [  0,   0,   0,   0,   0,   0,   0,   0,   0,   0,   0,   0,   0,\n",
              "          0,  96, 252, 189,  42,   0,   0,   0,   0,   0,   0,   0,   0,\n",
              "          0,   0],\n",
              "       [  0,   0,   0,   0,   0,   0,   0,   0,   0,   0,   0,   0,   0,\n",
              "          0,  14, 184, 252, 170,  11,   0,   0,   0,   0,   0,   0,   0,\n",
              "          0,   0],\n",
              "       [  0,   0,   0,   0,   0,   0,   0,   0,   0,   0,   0,   0,   0,\n",
              "          0,   0,  14, 147, 252,  42,   0,   0,   0,   0,   0,   0,   0,\n",
              "          0,   0],\n",
              "       [  0,   0,   0,   0,   0,   0,   0,   0,   0,   0,   0,   0,   0,\n",
              "          0,   0,   0,   0,   0,   0,   0,   0,   0,   0,   0,   0,   0,\n",
              "          0,   0]], dtype=uint8)"
            ]
          },
          "metadata": {}
        },
        {
          "output_type": "display_data",
          "data": {
            "image/png": "[encoded data removed]",
            "text/plain": [
              "<Figure size 432x288 with 1 Axes>"
            ]
          },
          "metadata": {
            "needs_background": "light"
          }
        }
      ]
    },
    {
      "cell_type": "markdown",
      "metadata": {
        "id": "2KcWqYa9SIai"
      },
      "source": [
        "## 2.3 신경망의 톱니바퀴: 텐서 연산\n",
        "2.3.1 원소별 연산\\\n",
        "2.3.2 브로드캐스팅\\\n",
        "2.3.3 텐서 점곱\\\n",
        "2.3.4 텐서 크기 변환\\\n",
        "2.3.5 텐서 연산의 기하학적 해석\\\n",
        "2.3.6 딥러닝의 기하학적 해석\n"
      ]
    },
    {
      "cell_type": "markdown",
      "metadata": {
        "id": "D0GZBZ1a0kBC"
      },
      "source": [
        "## 2.4 신경망의 엔진: 그래디언트 기반 최적화\n",
        "2.4.1 변화율이란?\\\n",
        "2.4.2 텐서 연산의 변화율: 그래디언트\\\n",
        "2.4.3 확률적 경사 하강법\\\n",
        "미분 가능한 함수의 최솟값(0)인 지점을 모두 찾고 이 중 어떤 포인트의 함수 값이 가장 작은지 확인하는 것. 신경망에 적용하면 가장 작은 손실 함수의 값을 만드는 가중치의 조합을 해석적으로 찾는 것을 의미함.\\\n",
        "\n",
        "\n",
        "\n",
        "2.4.4 변화율 연결: 역전파 알고리즘\n"
      ]
    },
    {
      "cell_type": "markdown",
      "metadata": {
        "id": "kKco0V5C7FYO"
      },
      "source": [
        "## 2.5 첫 번째 예제 다시 살펴보기\n",
        "## 2.6 요약"
      ]
    }
  ]
}